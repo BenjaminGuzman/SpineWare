{
 "cells": [
  {
   "cell_type": "markdown",
   "metadata": {},
   "source": [
    "# Playground to analyse the CV feature in SpineWare\n",
    "\n",
    "Imports"
   ]
  },
  {
   "cell_type": "code",
   "execution_count": 1,
   "metadata": {
    "pycharm": {
     "name": "#%%\n"
    }
   },
   "outputs": [],
   "source": [
    "import cv2"
   ]
  },
  {
   "cell_type": "markdown",
   "metadata": {},
   "source": [
    "## Algorithm\n",
    "\n",
    "Let's build an algorithm to\n",
    "\n",
    "- **Proximity detection**: Detect if you're too close or too far from the computer screen. This feature will **take care of your eyes**\n",
    "- **Posture detection**: Detect if you're in a bad posture (not sitting correctly while using the computer, or the computer is in a bad place)"
   ]
  },
  {
   "cell_type": "markdown",
   "metadata": {},
   "source": [
    "### Proximity detection\n",
    "\n",
    "Probably the most simpliest feature.\n",
    "\n",
    "The algorithm will:"
   ]
  }
 ],
 "metadata": {
  "kernelspec": {
   "display_name": "Python 3",
   "language": "python",
   "name": "python3"
  },
  "language_info": {
   "codemirror_mode": {
    "name": "ipython",
    "version": 3
   },
   "file_extension": ".py",
   "mimetype": "text/x-python",
   "name": "python",
   "nbconvert_exporter": "python",
   "pygments_lexer": "ipython3",
   "version": "3.8.6"
  },
  "pycharm": {
   "stem_cell": {
    "cell_type": "raw",
    "metadata": {
     "collapsed": false
    },
    "source": [
     "#\n",
     "# Copyright (c) 2020. Benjamín Antonio Velasco Guzmán\n",
     "# Author: Benjamín Antonio Velasco Guzmán <9benjaminguzman@gmail.com>\n",
     "#\n",
     "# This program is free software: you can redistribute it and/or modify\n",
     "# it under the terms of the GNU General Public License as published by\n",
     "# the Free Software Foundation, either version 3 of the License, or\n",
     "# (at your option) any later version.\n",
     "#\n",
     "# This program is distributed in the hope that it will be useful,\n",
     "# but WITHOUT ANY WARRANTY; without even the implied warranty of\n",
     "# MERCHANTABILITY or FITNESS FOR A PARTICULAR PURPOSE.  See the\n",
     "# GNU General Public License for more details.\n",
     "#\n",
     "# You should have received a copy of the GNU General Public License\n",
     "# along with this program.  If not, see <http://www.gnu.org/licenses/>.\n"
    ]
   }
  }
 },
 "nbformat": 4,
 "nbformat_minor": 4
}