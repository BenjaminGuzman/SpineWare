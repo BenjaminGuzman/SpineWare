{
 "cells": [
  {
   "cell_type": "markdown",
   "metadata": {},
   "source": [
    "# Playground to analyse the CV feature in SpineWare\n",
    "\n",
    "Imports"
   ]
  },
  {
   "cell_type": "code",
   "execution_count": 1,
   "metadata": {
    "pycharm": {
     "name": "#%%\n"
    }
   },
   "outputs": [],
   "source": [
    "import cv2\n",
    "import matplotlib.pyplot as plt\n",
    "\n",
    "# suppress backend warnings\n",
    "%matplotlib qt5\n",
    "# change the backend according to your OS"
   ]
  },
  {
   "cell_type": "markdown",
   "metadata": {},
   "source": [
    "## Algorithm\n",
    "\n",
    "Let's build an algorithm to\n",
    "\n",
    "- **Proximity detection**: Detect if you're too close or too far from the computer screen. This feature will **take care of your eyes**\n",
    "- **Posture detection**: Detect if you're in a bad posture (not sitting correctly while using the computer, or the computer is in a bad place)\n",
    "    + By checking if your face is within the camera range\n",
    "    + By checking how much area of the camera size is your face occupying"
   ]
  },
  {
   "cell_type": "markdown",
   "metadata": {},
   "source": [
    "### Proximity detection\n",
    "\n",
    "This feature consists of 2 phases\n",
    "\n",
    "- Camera callibration\n",
    "- Distance calculation"
   ]
  },
  {
   "cell_type": "markdown",
   "metadata": {},
   "source": [
    "#### Camera callibration\n",
    "\n",
    "This method of callibration is very simple and it is not very accurate.\n",
    "But it may serve good for the purposes of the application.\n",
    "\n",
    "The following image illustrates the basics of a pin-hole ideal camera (that's why this method is unnacurate, it does not take into account distortions or other stuff)\n",
    "\n",
    "![Camera model](resources/cam_model.jpg)"
   ]
  },
  {
   "cell_type": "markdown",
   "metadata": {},
   "source": [
    "From the image above, the only variables we may know are:\n",
    "\n",
    "- $f$: Obtained from OpenCV. This value may not be 100% accurate, specially with _rare_ cameras\n",
    "- $H_P$: Can be calculated by simply identifying the top and bottom of the projected rule\n",
    "- $H_R$ and $d$: We can ask the user to take some pictures of an $H_R$ cm length rule at some specified distances (just in the callibration phase).\n",
    "\n",
    "With all that we can obtain the focal length by triangle similarity:\n",
    "\n",
    "$\n",
    "\\begin{equation}\n",
    "    \\frac{f}{H_P} = \\frac{d}{H_R}\n",
    "\\end{equation}\n",
    "$\n",
    "\n",
    "$\n",
    "\\begin{equation}\n",
    "    f = \\frac{H_P d}{H_R}\n",
    "\\end{equation}\n",
    "$\n",
    "\n",
    "But why do we want to compute the _focal length_ if we want to know the users' proximity/distance to the computer?\n",
    "\n",
    "Because once we know the $f$ parameter, we can simply solve the equation for $d$:\n",
    "\n",
    "$\n",
    "\\begin{equation}\n",
    "    d = f \\cdot \\frac{H_R}{H_P}\n",
    "\\end{equation}\n",
    "$\n",
    "\n",
    "and $\\frac{H_R}{H_P}$ is just a constant value, we could call this the **cm-per-px ratio**, it is the _scaling factor_ (it is NOT an official name) the camera has."
   ]
  },
  {
   "cell_type": "code",
   "execution_count": 2,
   "metadata": {},
   "outputs": [],
   "source": [
    "# Function to select the rule\n",
    "def get_rule_rect(img):\n",
    "    print(\"Called\")\n",
    "    fig = plt.figure()\n",
    "    print(\"Called\")\n",
    "    plt.imshow(img)\n",
    "    print(\"Called 1\")\n",
    "    #clicked = plt.ginput(2)\n",
    "    #print(f\"top: {clicked[0]}, bottom: {clicked[1]}\")\n",
    "    #plt.show()"
   ]
  },
  {
   "cell_type": "code",
   "execution_count": null,
   "metadata": {
    "pycharm": {
     "is_executing": true
    }
   },
   "outputs": [],
   "source": [
    "video = cv2.VideoCapture(0)\n",
    "frame = None\n",
    "while True:\n",
    "    _, frame = video.read()\n",
    "    cv2.imshow(\"original\", frame)\n",
    "    \n",
    "    key_pressed = cv2.waitKey(1) & 0xFF\n",
    "    \n",
    "    if key_pressed == ord('q'):  # quit\n",
    "        break\n",
    "\n",
    "video.release()\n",
    "print(\"Khe\")\n",
    "cv2.destroyAllWindows()\n",
    "print(\"Khe\")\n",
    "get_rule_rect(frame)\n",
    "print(\"Khe\")"
   ]
  },
  {
   "cell_type": "markdown",
   "metadata": {},
   "source": [
    "**LaTeX area**\n",
    "\n",
    "$H_R$\n",
    "\n",
    "$H_P$\n",
    "\n",
    "$d$\n",
    "\n",
    "$f$"
   ]
  },
  {
   "cell_type": "code",
   "execution_count": null,
   "metadata": {
    "pycharm": {
     "is_executing": true
    }
   },
   "outputs": [],
   "source": []
  }
 ],
 "metadata": {
  "kernelspec": {
   "display_name": "Python 3",
   "language": "python",
   "name": "python3"
  },
  "language_info": {
   "codemirror_mode": {
    "name": "ipython",
    "version": 3
   },
   "file_extension": ".py",
   "mimetype": "text/x-python",
   "name": "python",
   "nbconvert_exporter": "python",
   "pygments_lexer": "ipython3",
   "version": "3.9.1"
  },
  "pycharm": {
   "stem_cell": {
    "cell_type": "raw",
    "source": [
     "#\n",
     "# Copyright (c) 2020. Benjamín Antonio Velasco Guzmán\n",
     "# Author: Benjamín Antonio Velasco Guzmán <bg@benjaminguzman.dev>\n",
     "#\n",
     "# This program is free software: you can redistribute it and/or modify\n",
     "# it under the terms of the GNU General Public License as published by\n",
     "# the Free Software Foundation, either version 3 of the License, or\n",
     "# (at your option) any later version.\n",
     "#\n",
     "# This program is distributed in the hope that it will be useful,\n",
     "# but WITHOUT ANY WARRANTY; without even the implied warranty of\n",
     "# MERCHANTABILITY or FITNESS FOR A PARTICULAR PURPOSE.  See the\n",
     "# GNU General Public License for more details.\n",
     "#\n",
     "# You should have received a copy of the GNU General Public License\n",
     "# along with this program.  If not, see <http://www.gnu.org/licenses/>.\n"
    ],
    "metadata": {
     "collapsed": false
    }
   }
  }
 },
 "nbformat": 4,
 "nbformat_minor": 4
}